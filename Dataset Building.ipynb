{
 "cells": [
  {
   "cell_type": "code",
   "execution_count": 1,
   "metadata": {
    "collapsed": true
   },
   "outputs": [],
   "source": [
    "#Imports\n",
    "import pandas as pd\n",
    "import numpy as np\n",
    "from skimage.io import imread\n",
    "import skimage\n",
    "\n",
    "%matplotlib inline\n",
    "\n",
    "import matplotlib\n",
    "import numpy as np\n",
    "import matplotlib.pyplot as plt"
   ]
  },
  {
   "cell_type": "code",
   "execution_count": 2,
   "metadata": {},
   "outputs": [
    {
     "data": {
      "text/html": [
       "<div>\n",
       "<style>\n",
       "    .dataframe thead tr:only-child th {\n",
       "        text-align: right;\n",
       "    }\n",
       "\n",
       "    .dataframe thead th {\n",
       "        text-align: left;\n",
       "    }\n",
       "\n",
       "    .dataframe tbody tr th {\n",
       "        vertical-align: top;\n",
       "    }\n",
       "</style>\n",
       "<table border=\"1\" class=\"dataframe\">\n",
       "  <thead>\n",
       "    <tr style=\"text-align: right;\">\n",
       "      <th></th>\n",
       "      <th>Spectogram</th>\n",
       "      <th>Meta_Label</th>\n",
       "      <th>New_Label</th>\n",
       "    </tr>\n",
       "  </thead>\n",
       "  <tbody>\n",
       "    <tr>\n",
       "      <th>0</th>\n",
       "      <td>https://drive.google.com/uc?export=download&amp;id...</td>\n",
       "      <td>320kpbs</td>\n",
       "      <td>192 kbps (LAME)</td>\n",
       "    </tr>\n",
       "    <tr>\n",
       "      <th>1</th>\n",
       "      <td>https://drive.google.com/uc?export=download&amp;id...</td>\n",
       "      <td>320 kbps</td>\n",
       "      <td>320 kbps (LAME)</td>\n",
       "    </tr>\n",
       "    <tr>\n",
       "      <th>2</th>\n",
       "      <td>https://drive.google.com/uc?export=download&amp;id...</td>\n",
       "      <td>320 kbps</td>\n",
       "      <td>128 kbps (CBR)</td>\n",
       "    </tr>\n",
       "    <tr>\n",
       "      <th>3</th>\n",
       "      <td>https://drive.google.com/uc?export=download&amp;id...</td>\n",
       "      <td>128 kbps</td>\n",
       "      <td>128 kpbs (AAC)</td>\n",
       "    </tr>\n",
       "    <tr>\n",
       "      <th>4</th>\n",
       "      <td>https://drive.google.com/uc?export=download&amp;id...</td>\n",
       "      <td>320 kbps</td>\n",
       "      <td>128 kbps (LAME)</td>\n",
       "    </tr>\n",
       "  </tbody>\n",
       "</table>\n",
       "</div>"
      ],
      "text/plain": [
       "                                          Spectogram Meta_Label  \\\n",
       "0  https://drive.google.com/uc?export=download&id...    320kpbs   \n",
       "1  https://drive.google.com/uc?export=download&id...   320 kbps   \n",
       "2  https://drive.google.com/uc?export=download&id...   320 kbps   \n",
       "3  https://drive.google.com/uc?export=download&id...   128 kbps   \n",
       "4  https://drive.google.com/uc?export=download&id...   320 kbps   \n",
       "\n",
       "         New_Label  \n",
       "0  192 kbps (LAME)  \n",
       "1  320 kbps (LAME)  \n",
       "2   128 kbps (CBR)  \n",
       "3   128 kpbs (AAC)  \n",
       "4  128 kbps (LAME)  "
      ]
     },
     "execution_count": 2,
     "metadata": {},
     "output_type": "execute_result"
    }
   ],
   "source": [
    "drive_and_label = pd.read_excel('Specogram Processing\\Spectogram_Data_v1.xlsx')\n",
    "drive_and_label.head()"
   ]
  },
  {
   "cell_type": "code",
   "execution_count": null,
   "metadata": {
    "collapsed": true
   },
   "outputs": [],
   "source": [
    "drive_and_label.iloc[0]['Spectogram']"
   ]
  },
  {
   "cell_type": "code",
   "execution_count": null,
   "metadata": {
    "collapsed": true
   },
   "outputs": [],
   "source": [
    "im = imread('https://drive.google.com/uc?export=download&id=1xyNHbQEGoqfgWsVl8algfpX5EdQdrqEm', as_grey = True)"
   ]
  },
  {
   "cell_type": "markdown",
   "metadata": {},
   "source": [
    "## Calculating 'score' by picture\n",
    "Here we are giving an overall score to each picture. We are trying to get an overall sense of how many black pixels there are. We are also trying to locate the shelf."
   ]
  },
  {
   "cell_type": "code",
   "execution_count": 11,
   "metadata": {},
   "outputs": [
    {
     "name": "stderr",
     "output_type": "stream",
     "text": [
      "C:\\Anaconda\\lib\\site-packages\\skimage\\io\\_plugins\\matplotlib_plugin.py:51: FutureWarning: Conversion of the second argument of issubdtype from `float` to `np.floating` is deprecated. In future, it will be treated as `np.float64 == np.dtype(float).type`.\n",
      "  out_of_range_float = (np.issubdtype(image.dtype, np.float) and\n"
     ]
    },
    {
     "data": {
      "text/plain": [
       "<matplotlib.image.AxesImage at 0x203728b9a58>"
      ]
     },
     "execution_count": 11,
     "metadata": {},
     "output_type": "execute_result"
    },
    {
     "data": {
      "image/png": "[encoded data removed]",
      "text/plain": [
       "<matplotlib.figure.Figure at 0x203726661d0>"
      ]
     },
     "metadata": {},
     "output_type": "display_data"
    }
   ],
   "source": [
    "im = imread(drive_and_label.iloc[0]['Spectogram'], as_grey = True)\n",
    "im = im[58:]\n",
    "im.shape\n",
    "skimage.io.imshow(im)"
   ]
  },
  {
   "cell_type": "code",
   "execution_count": 12,
   "metadata": {},
   "outputs": [
    {
     "data": {
      "text/plain": [
       "(330, 624)"
      ]
     },
     "execution_count": 12,
     "metadata": {},
     "output_type": "execute_result"
    }
   ],
   "source": [
    "im.shape"
   ]
  },
  {
   "cell_type": "code",
   "execution_count": 8,
   "metadata": {},
   "outputs": [
    {
     "data": {
      "text/plain": [
       "0.0"
      ]
     },
     "execution_count": 8,
     "metadata": {},
     "output_type": "execute_result"
    }
   ],
   "source": [
    "im[329][0]"
   ]
  },
  {
   "cell_type": "code",
   "execution_count": 15,
   "metadata": {},
   "outputs": [
    {
     "name": "stdout",
     "output_type": "stream",
     "text": [
      "(330, 624)\n"
     ]
    },
    {
     "ename": "IndexError",
     "evalue": "index 330 is out of bounds for axis 0 with size 330",
     "output_type": "error",
     "traceback": [
      "\u001b[1;31m---------------------------------------------------------------------------\u001b[0m",
      "\u001b[1;31mIndexError\u001b[0m                                Traceback (most recent call last)",
      "\u001b[1;32m<ipython-input-15-acc4802e3005>\u001b[0m in \u001b[0;36m<module>\u001b[1;34m()\u001b[0m\n\u001b[0;32m      9\u001b[0m     \u001b[1;32mfor\u001b[0m \u001b[0mjj\u001b[0m \u001b[1;32min\u001b[0m \u001b[0mrange\u001b[0m\u001b[1;33m(\u001b[0m\u001b[1;36m0\u001b[0m\u001b[1;33m,\u001b[0m \u001b[0my_bound\u001b[0m\u001b[1;33m-\u001b[0m\u001b[1;36m1\u001b[0m\u001b[1;33m)\u001b[0m\u001b[1;33m:\u001b[0m \u001b[1;31m#Loop down each \"x column\"\u001b[0m\u001b[1;33m\u001b[0m\u001b[0m\n\u001b[0;32m     10\u001b[0m         \u001b[1;31m#If the pixel is black we\u001b[0m\u001b[1;33m\u001b[0m\u001b[1;33m\u001b[0m\u001b[0m\n\u001b[1;32m---> 11\u001b[1;33m         \u001b[1;32mif\u001b[0m \u001b[0mim\u001b[0m\u001b[1;33m[\u001b[0m\u001b[0mii\u001b[0m\u001b[1;33m,\u001b[0m \u001b[0mjj\u001b[0m\u001b[1;33m]\u001b[0m \u001b[1;33m==\u001b[0m \u001b[1;36m0\u001b[0m\u001b[1;33m:\u001b[0m\u001b[1;33m\u001b[0m\u001b[0m\n\u001b[0m\u001b[0;32m     12\u001b[0m             \u001b[0mscore\u001b[0m \u001b[1;33m-=\u001b[0m \u001b[1;36m1\u001b[0m\u001b[1;33m\u001b[0m\u001b[0m\n\u001b[0;32m     13\u001b[0m         \u001b[1;32melif\u001b[0m \u001b[0mim\u001b[0m\u001b[1;33m[\u001b[0m\u001b[0mii\u001b[0m\u001b[1;33m,\u001b[0m\u001b[0mjj\u001b[0m\u001b[1;33m]\u001b[0m \u001b[1;33m!=\u001b[0m \u001b[1;36m0\u001b[0m\u001b[1;33m:\u001b[0m\u001b[1;33m\u001b[0m\u001b[0m\n",
      "\u001b[1;31mIndexError\u001b[0m: index 330 is out of bounds for axis 0 with size 330"
     ]
    }
   ],
   "source": [
    "#Looking at first column of data, should be a height of 0\n",
    "y_bound, x_bound = im.shape\n",
    "print(im.shape)\n",
    "final_score = []\n",
    "\n",
    "for ii in range(0, x_bound-1):\n",
    "    #Reset Score per-coluimn\n",
    "    score = 0\n",
    "    \n",
    "    for jj in range(0, y_bound-1): #Loop down each \"x column\"\n",
    "        #If the pixel is black we\n",
    "        if im[ii, jj] == 0:\n",
    "            score -= 1\n",
    "        elif im[ii,jj] != 0:\n",
    "            score += 1\n",
    "    final_score.append(score)\n",
    "            \n",
    "    \n",
    "print(final_score)"
   ]
  },
  {
   "cell_type": "code",
   "execution_count": 54,
   "metadata": {
    "collapsed": true
   },
   "outputs": [],
   "source": [
    "im = imread(drive_and_label.iloc[0]['Spectogram'], as_grey = True)\n",
    "\n",
    "#Crop Picture to get rid of top section\n",
    "#50 pixels is the standard header\n",
    "im = im[49:]\n",
    "\n",
    "#Find Bounds of image (to give baseline)\n",
    "y_bound, x_bound = im.shape\n",
    "\n",
    "#Looping across the x-axis (predefined resolution)\n",
    "score = []\n",
    "temp = 0\n",
    "for ii in range(0, y_bound):\n",
    "    #If the sum of the pixels across the row is \n",
    "    \n",
    "    temp_1 = 0\n",
    "    if sum(im[ii]) != 0:\n",
    "        temp += 1\n",
    "        temp_1 += 1\n",
    "        #score.append(temp)\n",
    "        score.append(temp_1)\n",
    "    #If the sum is 0 we give a bad score\n",
    "    elif sum(im[ii]) == 0:\n",
    "        temp -= 1\n",
    "        temp_1 -= 1\n",
    "        #score.append(temp)\n",
    "        score.append(temp_1)"
   ]
  },
  {
   "cell_type": "code",
   "execution_count": 55,
   "metadata": {},
   "outputs": [
    {
     "name": "stdout",
     "output_type": "stream",
     "text": [
      "[-1, -1, -1, -1, -1, -1, -1, 1, 1, 1, 1, 1, 1, 1, 1, 1, 1, 1, 1, 1, 1, 1, 1, 1, 1, 1, 1, 1, 1, 1, 1, 1, 1, 1, 1, 1, 1, 1, 1, 1, 1, 1, 1, 1, 1, 1, 1, 1, 1, 1, 1, 1, 1, 1, 1, 1, 1, 1, 1, 1, 1, 1, 1, 1, 1, 1, 1, 1, 1, 1, 1, 1, 1, 1, 1, 1, 1, 1, 1, 1, 1, 1, 1, 1, 1, 1, 1, 1, 1, 1, 1, 1, 1, 1, 1, 1, 1, 1, 1, 1, 1, 1, 1, 1, 1, 1, 1, 1, 1, 1, 1, 1, 1, 1, 1, 1, 1, 1, 1, 1, 1, 1, 1, 1, 1, 1, 1, 1, 1, 1, 1, 1, 1, 1, 1, 1, 1, 1, 1, 1, 1, 1, 1, 1, 1, 1, 1, 1, 1, 1, 1, 1, 1, 1, 1, 1, 1, 1, 1, 1, 1, 1, 1, 1, 1, 1, 1, 1, 1, 1, 1, 1, 1, 1, 1, 1, 1, 1, 1, 1, 1, 1, 1, 1, 1, 1, 1, 1, 1, 1, 1, 1, 1, 1, 1, 1, 1, 1, 1, 1, 1, 1, 1, 1, 1, 1, 1, 1, 1, 1, 1, 1, 1, 1, 1, 1, 1, 1, 1, 1, 1, 1, 1, 1, 1, 1, 1, 1, 1, 1, 1, 1, 1, 1, 1, 1, 1, 1, 1, 1, 1, 1, 1, 1, 1, 1, 1, 1, 1, 1, 1, 1, 1, 1, 1, 1, 1, 1, 1, 1, 1, 1, 1, 1, 1, 1, 1, 1, 1, 1, 1, 1, 1, 1, 1, 1, 1, 1, 1, 1, 1, 1, 1, 1, 1, 1, 1, 1, 1, 1, 1, 1, 1, 1, 1, 1, 1, 1, 1, 1, 1, 1, 1, -1, -1, -1, -1, -1, -1, -1, -1, -1, 1, 1, 1, 1, 1, 1, 1, 1, -1, -1, -1, -1, -1, -1, -1, -1, -1, -1, -1, -1, -1, -1, -1, -1, -1, -1, -1]\n"
     ]
    }
   ],
   "source": [
    "print(score)"
   ]
  },
  {
   "cell_type": "code",
   "execution_count": 6,
   "metadata": {
    "collapsed": true
   },
   "outputs": [],
   "source": [
    "d = {}\n",
    "\n",
    "for idx, row in drive_and_label.iterrows():\n",
    "    #Find picture from GD link\n",
    "    im = imread(row['Spectogram'], as_grey = True)\n",
    "\n",
    "    #Crop Picture to get rid of top section\n",
    "    #50 pixels is the standard header\n",
    "    im = im[49:]\n",
    "\n",
    "    #Find Bounds of image (to give baseline)\n",
    "    y_bound, x_bound = im.shape\n",
    "\n",
    "    #Looping across the x-axis (predefined resolution)\n",
    "    score = []\n",
    "    temp = 0\n",
    "    for ii in range(0, y_bound):\n",
    "        #If the sum of the pixels across the row is \n",
    "        if sum(im[ii]) != 0:\n",
    "            temp += 1\n",
    "            score.append(temp)\n",
    "        #If the sum is 0 we give a bad score\n",
    "        elif sum(im[ii]) == 0:\n",
    "            temp -= 1\n",
    "            score.append(temp)\n",
    "\n",
    "    d[idx] = score "
   ]
  },
  {
   "cell_type": "code",
   "execution_count": null,
   "metadata": {
    "collapsed": true
   },
   "outputs": [],
   "source": [
    "df = pd.read_csv('SCORE.csv')"
   ]
  },
  {
   "cell_type": "markdown",
   "metadata": {},
   "source": [
    "## Converting Spectograms to CIFAR-10 Dataset (OUTDATED)\n",
    "\n",
    "\n",
    "Our goal here is to take each spectogram and turn its picture into raw  data. Each column corresponds to color values of each pixel of the image (after the first column, which is the label). Each of our pictures are cropped to only the spectograph which i\n",
    "\n",
    "This data is concidered raw because it simply encodes the image itself. We are going to be use different types of encoding such as DAISY and a Color Histogram."
   ]
  },
  {
   "cell_type": "code",
   "execution_count": null,
   "metadata": {
    "collapsed": true
   },
   "outputs": [],
   "source": [
    "#https://stackoverflow.com/questions/39382412/crop-center-portion-of-a-numpy-image/39382475\n",
    "def crop_center(img,cropx,cropy):\n",
    "    y,x,z = img.shape\n",
    "    startx = x//2-(cropx//2)\n",
    "    starty = y//2-(cropy//2) \n",
    "    return img[starty:starty+cropy,startx:startx+cropx]"
   ]
  },
  {
   "cell_type": "code",
   "execution_count": null,
   "metadata": {
    "collapsed": true,
    "scrolled": true
   },
   "outputs": [],
   "source": [
    "d = {}\n",
    "#Loop through each Google Drive link\n",
    "for idx, row in drive_and_label.iterrows():\n",
    "    \n",
    "    #Creating a 2-D Array with just pixel values\n",
    "    #print ('Finding feature array...')\n",
    "    im = imread(row['Spectogram'])\n",
    "    im_crop = crop_center(im, 505, 295)\n",
    "    features = im_crop.flatten()\n",
    "    #print('... array found.')\n",
    "    \n",
    "    #Adding features to dictionary \n",
    "    d[idx] = features"
   ]
  },
  {
   "cell_type": "code",
   "execution_count": 26,
   "metadata": {
    "collapsed": true
   },
   "outputs": [],
   "source": [
    "df = pd.DataFrame.from_dict(d)\n",
    "df = df.T\n",
    "df.insert(0, 'label', drive_and_label['New_Label'])\n",
    "df.tail()\n",
    "\n",
    "df.to_csv('SCORE.csv', sep = ',')"
   ]
  },
  {
   "cell_type": "code",
   "execution_count": 25,
   "metadata": {},
   "outputs": [
    {
     "data": {
      "text/plain": [
       "True"
      ]
     },
     "execution_count": 25,
     "metadata": {},
     "output_type": "execute_result"
    }
   ],
   "source": []
  },
  {
   "cell_type": "markdown",
   "metadata": {},
   "source": [
    "### Now we have to reduce the size of the dataset.\n",
    "\n",
    "Before we were at a sparse matrix of (5,446926), now we have a more dense matrix at (5,~8000)."
   ]
  },
  {
   "cell_type": "code",
   "execution_count": null,
   "metadata": {
    "collapsed": true
   },
   "outputs": [],
   "source": [
    "backup_df = df"
   ]
  },
  {
   "cell_type": "code",
   "execution_count": null,
   "metadata": {
    "collapsed": true
   },
   "outputs": [],
   "source": [
    "#No need for columns that are identical (all 0 values)\n",
    "df = df.loc[:, (df != 0).any(axis=0)]"
   ]
  },
  {
   "cell_type": "raw",
   "metadata": {},
   "source": [
    "from pandas import ExcelWriter\n",
    "\n",
    "writer = ExcelWriter('RAW_FEATURES.xlsx')\n",
    "writer.save()\n",
    "df.to_excel(writer, 'RGB Encoding')"
   ]
  },
  {
   "cell_type": "markdown",
   "metadata": {},
   "source": [
    "# Machine Learning (Finally)\n",
    "\n",
    "thoughts on why it's low:\n",
    "- crowd source sorting\n",
    "- too hard of a problem\n",
    "- not enough training data"
   ]
  },
  {
   "cell_type": "code",
   "execution_count": 24,
   "metadata": {
    "collapsed": true
   },
   "outputs": [],
   "source": [
    "df = pd.read_csv('Python_ML\\SCORE.csv', header = None)"
   ]
  },
  {
   "cell_type": "code",
   "execution_count": 25,
   "metadata": {},
   "outputs": [
    {
     "data": {
      "text/html": [
       "<div>\n",
       "<table border=\"1\" class=\"dataframe\">\n",
       "  <thead>\n",
       "    <tr style=\"text-align: right;\">\n",
       "      <th></th>\n",
       "      <th>0</th>\n",
       "      <th>1</th>\n",
       "      <th>2</th>\n",
       "      <th>3</th>\n",
       "      <th>4</th>\n",
       "      <th>5</th>\n",
       "      <th>6</th>\n",
       "      <th>7</th>\n",
       "      <th>8</th>\n",
       "      <th>9</th>\n",
       "      <th>...</th>\n",
       "      <th>330</th>\n",
       "      <th>331</th>\n",
       "      <th>332</th>\n",
       "      <th>333</th>\n",
       "      <th>334</th>\n",
       "      <th>335</th>\n",
       "      <th>336</th>\n",
       "      <th>337</th>\n",
       "      <th>338</th>\n",
       "      <th>339</th>\n",
       "    </tr>\n",
       "  </thead>\n",
       "  <tbody>\n",
       "    <tr>\n",
       "      <th>0</th>\n",
       "      <td>192 kbps (LAME)</td>\n",
       "      <td>-1</td>\n",
       "      <td>-2</td>\n",
       "      <td>-3</td>\n",
       "      <td>-4</td>\n",
       "      <td>-5</td>\n",
       "      <td>-6</td>\n",
       "      <td>-7</td>\n",
       "      <td>-6</td>\n",
       "      <td>-5</td>\n",
       "      <td>...</td>\n",
       "      <td>278</td>\n",
       "      <td>277</td>\n",
       "      <td>276</td>\n",
       "      <td>275</td>\n",
       "      <td>274</td>\n",
       "      <td>273</td>\n",
       "      <td>272</td>\n",
       "      <td>271</td>\n",
       "      <td>270</td>\n",
       "      <td>269</td>\n",
       "    </tr>\n",
       "    <tr>\n",
       "      <th>1</th>\n",
       "      <td>320 kbps (LAME)</td>\n",
       "      <td>-1</td>\n",
       "      <td>-2</td>\n",
       "      <td>-3</td>\n",
       "      <td>-4</td>\n",
       "      <td>-5</td>\n",
       "      <td>-6</td>\n",
       "      <td>-7</td>\n",
       "      <td>-6</td>\n",
       "      <td>-5</td>\n",
       "      <td>...</td>\n",
       "      <td>278</td>\n",
       "      <td>277</td>\n",
       "      <td>276</td>\n",
       "      <td>275</td>\n",
       "      <td>274</td>\n",
       "      <td>273</td>\n",
       "      <td>272</td>\n",
       "      <td>271</td>\n",
       "      <td>270</td>\n",
       "      <td>269</td>\n",
       "    </tr>\n",
       "    <tr>\n",
       "      <th>2</th>\n",
       "      <td>128 kbps (CBR)</td>\n",
       "      <td>-1</td>\n",
       "      <td>-2</td>\n",
       "      <td>-3</td>\n",
       "      <td>-4</td>\n",
       "      <td>-5</td>\n",
       "      <td>-6</td>\n",
       "      <td>-7</td>\n",
       "      <td>-6</td>\n",
       "      <td>-5</td>\n",
       "      <td>...</td>\n",
       "      <td>278</td>\n",
       "      <td>277</td>\n",
       "      <td>276</td>\n",
       "      <td>275</td>\n",
       "      <td>274</td>\n",
       "      <td>273</td>\n",
       "      <td>272</td>\n",
       "      <td>271</td>\n",
       "      <td>270</td>\n",
       "      <td>269</td>\n",
       "    </tr>\n",
       "    <tr>\n",
       "      <th>3</th>\n",
       "      <td>128 kpbs (AAC)</td>\n",
       "      <td>-1</td>\n",
       "      <td>-2</td>\n",
       "      <td>-3</td>\n",
       "      <td>-4</td>\n",
       "      <td>-5</td>\n",
       "      <td>-6</td>\n",
       "      <td>-7</td>\n",
       "      <td>-6</td>\n",
       "      <td>-5</td>\n",
       "      <td>...</td>\n",
       "      <td>278</td>\n",
       "      <td>277</td>\n",
       "      <td>276</td>\n",
       "      <td>275</td>\n",
       "      <td>274</td>\n",
       "      <td>273</td>\n",
       "      <td>272</td>\n",
       "      <td>271</td>\n",
       "      <td>270</td>\n",
       "      <td>269</td>\n",
       "    </tr>\n",
       "    <tr>\n",
       "      <th>4</th>\n",
       "      <td>128 kbps (LAME)</td>\n",
       "      <td>-1</td>\n",
       "      <td>-2</td>\n",
       "      <td>-3</td>\n",
       "      <td>-4</td>\n",
       "      <td>-5</td>\n",
       "      <td>-6</td>\n",
       "      <td>-7</td>\n",
       "      <td>-6</td>\n",
       "      <td>-5</td>\n",
       "      <td>...</td>\n",
       "      <td>278</td>\n",
       "      <td>277</td>\n",
       "      <td>276</td>\n",
       "      <td>275</td>\n",
       "      <td>274</td>\n",
       "      <td>273</td>\n",
       "      <td>272</td>\n",
       "      <td>271</td>\n",
       "      <td>270</td>\n",
       "      <td>269</td>\n",
       "    </tr>\n",
       "  </tbody>\n",
       "</table>\n",
       "<p>5 rows × 340 columns</p>\n",
       "</div>"
      ],
      "text/plain": [
       "               0    1    2    3    4    5    6    7    8    9   ...   330  \\\n",
       "0  192 kbps (LAME)   -1   -2   -3   -4   -5   -6   -7   -6   -5 ...   278   \n",
       "1  320 kbps (LAME)   -1   -2   -3   -4   -5   -6   -7   -6   -5 ...   278   \n",
       "2   128 kbps (CBR)   -1   -2   -3   -4   -5   -6   -7   -6   -5 ...   278   \n",
       "3   128 kpbs (AAC)   -1   -2   -3   -4   -5   -6   -7   -6   -5 ...   278   \n",
       "4  128 kbps (LAME)   -1   -2   -3   -4   -5   -6   -7   -6   -5 ...   278   \n",
       "\n",
       "   331  332  333  334  335  336  337  338  339  \n",
       "0  277  276  275  274  273  272  271  270  269  \n",
       "1  277  276  275  274  273  272  271  270  269  \n",
       "2  277  276  275  274  273  272  271  270  269  \n",
       "3  277  276  275  274  273  272  271  270  269  \n",
       "4  277  276  275  274  273  272  271  270  269  \n",
       "\n",
       "[5 rows x 340 columns]"
      ]
     },
     "execution_count": 25,
     "metadata": {},
     "output_type": "execute_result"
    }
   ],
   "source": [
    "df.head()"
   ]
  },
  {
   "cell_type": "code",
   "execution_count": 6,
   "metadata": {
    "collapsed": true
   },
   "outputs": [],
   "source": [
    "from sklearn.preprocessing import StandardScaler\n",
    "from sklearn.model_selection import train_test_split\n",
    "scalar = StandardScaler()"
   ]
  },
  {
   "cell_type": "code",
   "execution_count": 43,
   "metadata": {},
   "outputs": [
    {
     "name": "stderr",
     "output_type": "stream",
     "text": [
      "C:\\Users\\spitf_000\\AppData\\Roaming\\Python\\Python35\\site-packages\\sklearn\\utils\\validation.py:475: DataConversionWarning: Data with input dtype int64 was converted to float64 by StandardScaler.\n",
      "  warnings.warn(msg, DataConversionWarning)\n"
     ]
    }
   ],
   "source": [
    "#Finding and converting raw data\n",
    "rawY = df.iloc[0:799, 0].values\n",
    "rawX = df.iloc[0:799, 1:].values\n",
    "scalar.fit(rawX)\n",
    "rawX = scalar.transform(rawX)\n",
    "\n",
    "#Finding and converting test data\n",
    "rawY_test = df.iloc[800:, 0].values\n",
    "rawX_test = df.iloc[800:, 1:].values\n",
    "\n",
    "scalar.fit(rawX_test)\n",
    "rawX_test = scalar.transform(rawX_test)"
   ]
  },
  {
   "cell_type": "code",
   "execution_count": 45,
   "metadata": {},
   "outputs": [
    {
     "name": "stdout",
     "output_type": "stream",
     "text": [
      "Training accuracy: 0.138924\n",
      "Testing accuracy: 0.127168\n"
     ]
    }
   ],
   "source": [
    "from sklearn.dummy import DummyClassifier\n",
    "from sklearn.metrics import accuracy_score\n",
    "\n",
    "classifier = DummyClassifier(strategy='most_frequent')\n",
    "\n",
    "classifier.fit(rawX, rawY)\n",
    "\n",
    "#fit(rawX, rawY)\n",
    "\n",
    "print(\"Training accuracy: %0.6f\" % accuracy_score(rawY, classifier.predict(rawX)))\n",
    "print(\"Testing accuracy: %0.6f\" % accuracy_score(rawY_test, classifier.predict(rawX_test)))"
   ]
  },
  {
   "cell_type": "markdown",
   "metadata": {},
   "source": [
    "## K-Fold Cross Validation"
   ]
  },
  {
   "cell_type": "code",
   "execution_count": 11,
   "metadata": {},
   "outputs": [
    {
     "name": "stderr",
     "output_type": "stream",
     "text": [
      "C:\\Users\\Tom Slesinger\\AppData\\Roaming\\Python\\Python36\\site-packages\\sklearn\\utils\\validation.py:475: DataConversionWarning: Data with input dtype int64 was converted to float64 by StandardScaler.\n",
      "  warnings.warn(msg, DataConversionWarning)\n"
     ]
    }
   ],
   "source": [
    "#Finding and converting raw data\n",
    "Y = df.iloc[:, 0].values\n",
    "X = df.iloc[:, 1:].values\n",
    "scalar.fit(X)\n",
    "X = scalar.transform(X)\n",
    "\n",
    "#Finding and converting test data\n",
    "Y_test = df.iloc[800:, 0].values\n",
    "X_test = df.iloc[800:, 1:].values\n",
    "\n",
    "scalar.fit(X_test)\n",
    "X_test = scalar.transform(X_test)"
   ]
  },
  {
   "cell_type": "code",
   "execution_count": 12,
   "metadata": {
    "collapsed": true
   },
   "outputs": [],
   "source": [
    "from sklearn import model_selection\n",
    "from sklearn.linear_model import LogisticRegression\n",
    "from sklearn.tree import DecisionTreeClassifier\n",
    "from sklearn.neighbors import KNeighborsClassifier\n",
    "from sklearn.naive_bayes import GaussianNB\n",
    "from sklearn.svm import SVC"
   ]
  },
  {
   "cell_type": "code",
   "execution_count": 13,
   "metadata": {},
   "outputs": [
    {
     "name": "stdout",
     "output_type": "stream",
     "text": [
      "LR: 0.145971 (0.045442)\n",
      "KNN: 0.093467 (0.037930)\n",
      "TREE: 0.145971 (0.045442)\n",
      "SVM: 0.136693 (0.043746)\n"
     ]
    },
    {
     "data": {
      "image/png": "[encoded data removed]",
      "text/plain": [
       "<matplotlib.figure.Figure at 0x24ebd0848d0>"
      ]
     },
     "metadata": {},
     "output_type": "display_data"
    }
   ],
   "source": [
    "# prepare configuration for cross validation test harness\n",
    "seed = 123\n",
    "# prepare models\n",
    "models = []\n",
    "models.append(('LR', LogisticRegression()))\n",
    "models.append(('KNN', KNeighborsClassifier()))\n",
    "models.append(('TREE', DecisionTreeClassifier()))\n",
    "models.append(('SVM', SVC()))\n",
    "\n",
    "# evaluate each model in turn\n",
    "results = []\n",
    "names = []\n",
    "scoring = 'accuracy'\n",
    "for name, model in models:\n",
    "    kfold = model_selection.KFold(n_splits=10, random_state=seed)\n",
    "    cv_results = model_selection.cross_val_score(model, X, Y, cv=kfold, scoring=scoring)\n",
    "    results.append(cv_results)\n",
    "    names.append(name)\n",
    "    msg = \"%s: %f (%f)\" % (name, cv_results.mean(), cv_results.std())\n",
    "    print(msg)\n",
    "# boxplot algorithm comparison\n",
    "fig = plt.figure()\n",
    "fig.suptitle('Algorithm Comparison')\n",
    "ax = fig.add_subplot(111)\n",
    "plt.boxplot(results)\n",
    "ax.set_xticklabels(names)\n",
    "plt.show()"
   ]
  },
  {
   "cell_type": "code",
   "execution_count": 14,
   "metadata": {},
   "outputs": [
    {
     "name": "stdout",
     "output_type": "stream",
     "text": [
      "--- Using a linear kernel ---\n",
      "C = 0.0001\n",
      "Test accuracy: 0.127168\n",
      "C = 0.001\n",
      "Test accuracy: 0.127168\n",
      "C = 0.01\n",
      "Test accuracy: 0.127168\n",
      "C = 0.1\n",
      "Test accuracy: 0.127168\n",
      "C = 1.0\n",
      "Test accuracy: 0.127168\n",
      "C = 10.0\n",
      "Test accuracy: 0.127168\n",
      "C = 100.0\n",
      "Test accuracy: 0.127168\n",
      "C = 1000.0\n",
      "Test accuracy: 0.127168\n",
      "--- Using a poly kernel ---\n",
      "C = 0.0001\n",
      "Test accuracy: 0.127168\n",
      "C = 0.001\n",
      "Test accuracy: 0.127168\n",
      "C = 0.01\n",
      "Test accuracy: 0.127168\n",
      "C = 0.1\n",
      "Test accuracy: 0.127168\n",
      "C = 1.0\n",
      "Test accuracy: 0.127168\n",
      "C = 10.0\n",
      "Test accuracy: 0.127168\n",
      "C = 100.0\n",
      "Test accuracy: 0.127168\n",
      "C = 1000.0\n",
      "Test accuracy: 0.127168\n",
      "--- Using a poly kernel ---\n",
      "C = 0.0001\n",
      "Test accuracy: 0.127168\n",
      "C = 0.001\n",
      "Test accuracy: 0.127168\n",
      "C = 0.01\n",
      "Test accuracy: 0.127168\n",
      "C = 0.1\n",
      "Test accuracy: 0.127168\n",
      "C = 1.0\n",
      "Test accuracy: 0.127168\n",
      "C = 10.0\n",
      "Test accuracy: 0.127168\n",
      "C = 100.0\n",
      "Test accuracy: 0.127168\n",
      "C = 1000.0\n",
      "Test accuracy: 0.127168\n",
      "--- Using a rbf kernel ---\n",
      "C = 0.0001\n",
      "Test accuracy: 0.127168\n",
      "C = 0.001\n",
      "Test accuracy: 0.127168\n",
      "C = 0.01\n",
      "Test accuracy: 0.127168\n",
      "C = 0.1\n",
      "Test accuracy: 0.127168\n",
      "C = 1.0\n",
      "Test accuracy: 0.127168\n",
      "C = 10.0\n",
      "Test accuracy: 0.127168\n",
      "C = 100.0\n",
      "Test accuracy: 0.127168\n",
      "C = 1000.0\n",
      "Test accuracy: 0.127168\n"
     ]
    }
   ],
   "source": [
    "from sklearn.svm import SVC\n",
    "\n",
    "switch = False\n",
    "for kernel in ['linear', 'poly', 'poly', 'rbf']:\n",
    "    print('--- Using a {} kernel ---'.format(kernel))\n",
    "    for c_iter in [0.0001,0.001,0.01,0.1,1.0,10.0,100.0,1000.0]:\n",
    "        #Init Classifier given kernel\n",
    "        if kernel == 'poly' and switch == False:\n",
    "            classifier = SVC(kernel=kernel, degree = 2, C=c_iter, random_state=123)\n",
    "            if c_iter == 1000.0:\n",
    "                switch = True #done with first poly move to second\n",
    "        elif kernel == 'poly' and switch == True:\n",
    "            classifier = SVC(kernel=kernel, degree = 3, C=c_iter, random_state=123)\n",
    "        else:\n",
    "            classifier = SVC(kernel=kernel, C=c_iter, random_state=123)\n",
    "        \n",
    "        #Fit classifier\n",
    "        classifier.fit(rawX, rawY)\n",
    "        \n",
    "        #Find Accuracy\n",
    "        print('C = {}'.format(c_iter))\n",
    "        #print(\"Training accuracy: %0.6f\" % accuracy_score(rawY[:1000], classifier.predict(rawX[:1000])))\n",
    "        print(\"Test accuracy: %0.6f\" % accuracy_score(rawY_test, classifier.predict(rawX_test)))"
   ]
  },
  {
   "cell_type": "markdown",
   "metadata": {},
   "source": [
    "## Decision Tree"
   ]
  },
  {
   "cell_type": "code",
   "execution_count": 36,
   "metadata": {},
   "outputs": [
    {
     "name": "stderr",
     "output_type": "stream",
     "text": [
      "C:\\Users\\spitf_000\\AppData\\Roaming\\Python\\Python35\\site-packages\\sklearn\\utils\\validation.py:475: DataConversionWarning: Data with input dtype int64 was converted to float64 by StandardScaler.\n",
      "  warnings.warn(msg, DataConversionWarning)\n"
     ]
    }
   ],
   "source": [
    "#Finding and converting raw data\n",
    "Y = df.iloc[:799, 0].values\n",
    "X = df.iloc[:799, 1:].values\n",
    "scalar.fit(X)\n",
    "X = scalar.transform(X)\n",
    "\n",
    "#Finding and converting test data\n",
    "Y_test = df.iloc[800:, 0].values\n",
    "X_test = df.iloc[800:, 1:].values\n",
    "\n",
    "scalar.fit(X_test)\n",
    "X_test = scalar.transform(X_test)"
   ]
  },
  {
   "cell_type": "code",
   "execution_count": 37,
   "metadata": {
    "scrolled": true
   },
   "outputs": [
    {
     "name": "stdout",
     "output_type": "stream",
     "text": [
      "Depth of 3 leaf sample of 1\n",
      "Training accuracy: 0.150188\n",
      "Test accuracy: 0.127168\n",
      "Depth of 3 leaf sample of 5\n",
      "Training accuracy: 0.150188\n",
      "Test accuracy: 0.127168\n",
      "Depth of 3 leaf sample of 10\n",
      "Training accuracy: 0.138924\n",
      "Test accuracy: 0.127168\n",
      "Depth of 3 leaf sample of 15\n",
      "Training accuracy: 0.138924\n",
      "Test accuracy: 0.127168\n",
      "Depth of 3 leaf sample of 50\n",
      "Training accuracy: 0.138924\n",
      "Test accuracy: 0.127168\n",
      "Depth of 8 leaf sample of 1\n",
      "Training accuracy: 0.150188\n",
      "Test accuracy: 0.127168\n",
      "Depth of 8 leaf sample of 5\n",
      "Training accuracy: 0.150188\n",
      "Test accuracy: 0.127168\n",
      "Depth of 8 leaf sample of 10\n",
      "Training accuracy: 0.138924\n",
      "Test accuracy: 0.127168\n",
      "Depth of 8 leaf sample of 15\n",
      "Training accuracy: 0.138924\n",
      "Test accuracy: 0.127168\n",
      "Depth of 8 leaf sample of 50\n",
      "Training accuracy: 0.138924\n",
      "Test accuracy: 0.127168\n",
      "Depth of 14 leaf sample of 1\n",
      "Training accuracy: 0.150188\n",
      "Test accuracy: 0.127168\n",
      "Depth of 14 leaf sample of 5\n",
      "Training accuracy: 0.150188\n",
      "Test accuracy: 0.127168\n",
      "Depth of 14 leaf sample of 10\n",
      "Training accuracy: 0.138924\n",
      "Test accuracy: 0.127168\n",
      "Depth of 14 leaf sample of 15\n",
      "Training accuracy: 0.138924\n",
      "Test accuracy: 0.127168\n",
      "Depth of 14 leaf sample of 50\n",
      "Training accuracy: 0.138924\n",
      "Test accuracy: 0.127168\n",
      "Depth of 100 leaf sample of 1\n",
      "Training accuracy: 0.150188\n",
      "Test accuracy: 0.127168\n",
      "Depth of 100 leaf sample of 5\n",
      "Training accuracy: 0.150188\n",
      "Test accuracy: 0.127168\n",
      "Depth of 100 leaf sample of 10\n",
      "Training accuracy: 0.138924\n",
      "Test accuracy: 0.127168\n",
      "Depth of 100 leaf sample of 15\n",
      "Training accuracy: 0.138924\n",
      "Test accuracy: 0.127168\n",
      "Depth of 100 leaf sample of 50\n",
      "Training accuracy: 0.138924\n",
      "Test accuracy: 0.127168\n"
     ]
    }
   ],
   "source": [
    "from sklearn.tree import DecisionTreeClassifier\n",
    "\n",
    "for depth in [3,8,14,100]:\n",
    "    for leaf in [1,5,10,15,50]:\n",
    "        tree = DecisionTreeClassifier(max_depth=depth, min_samples_leaf=leaf, random_state=123)\n",
    "        tree.fit(X, Y)\n",
    "        print('Depth of {} leaf sample of {}'.format(depth, leaf))\n",
    "        print(\"Training accuracy: %0.6f\" % accuracy_score(Y, tree.predict(X)))\n",
    "        print(\"Test accuracy: %0.6f\" % accuracy_score(Y_test, tree.predict(X_test)))"
   ]
  },
  {
   "cell_type": "code",
   "execution_count": 17,
   "metadata": {},
   "outputs": [
    {
     "name": "stderr",
     "output_type": "stream",
     "text": [
      "C:\\Users\\Tom Slesinger\\AppData\\Roaming\\Python\\Python36\\site-packages\\sklearn\\ensemble\\weight_boosting.py:29: DeprecationWarning: numpy.core.umath_tests is an internal NumPy module and should not be imported. It will be removed in a future NumPy release.\n",
      "  from numpy.core.umath_tests import inner1d\n"
     ]
    },
    {
     "name": "stdout",
     "output_type": "stream",
     "text": [
      "Training with 10 number of decision trees.\n",
      "Test accuracy: 0.127168\n",
      "Training with 50 number of decision trees.\n",
      "Test accuracy: 0.127168\n",
      "Training with 100 number of decision trees.\n",
      "Test accuracy: 0.127168\n",
      "Training with 300 number of decision trees.\n",
      "Test accuracy: 0.127168\n"
     ]
    }
   ],
   "source": [
    "from sklearn.ensemble import RandomForestClassifier\n",
    "\n",
    "for iter_ in [10,50,100,300]:\n",
    "    r_tree = RandomForestClassifier(n_estimators=iter_, max_depth=8, min_samples_leaf=15, random_state=123)\n",
    "    r_tree.fit(X, Y)\n",
    "    print('Training with {} number of decision trees.'.format(iter_))\n",
    "    #print(\"Training accuracy: %0.6f\" % accuracy_score(Y[:5000], r_tree.predict(X[:5000])))\n",
    "    print(\"Test accuracy: %0.6f\" % accuracy_score(Y_test, r_tree.predict(X_test)))"
   ]
  },
  {
   "cell_type": "markdown",
   "metadata": {},
   "source": [
    "## Neural Network"
   ]
  },
  {
   "cell_type": "code",
   "execution_count": 18,
   "metadata": {},
   "outputs": [
    {
     "name": "stdout",
     "output_type": "stream",
     "text": [
      "Test accuracy: 0.086705\n",
      "Test accuracy: 0.127168\n",
      "Test accuracy: 0.086705\n",
      "Test accuracy: 0.127168\n"
     ]
    }
   ],
   "source": [
    "from sklearn.neural_network import MLPClassifier\n",
    "for HL_1 in [50,100,200,300]:\n",
    "    multi = MLPClassifier(hidden_layer_sizes=(HL_1), random_state=123)\n",
    "    multi.fit(X, Y)\n",
    "    print(\"Test accuracy: %0.6f\" % accuracy_score(Y_test, multi.predict(X_test)))"
   ]
  },
  {
   "cell_type": "markdown",
   "metadata": {},
   "source": [
    "## Daisy Features"
   ]
  },
  {
   "cell_type": "code",
   "execution_count": null,
   "metadata": {
    "collapsed": true
   },
   "outputs": [],
   "source": [
    "from skimage.color import rgb2gray\n",
    "from skimage.feature import daisy as daisy_feature\n",
    "from skimage import data"
   ]
  },
  {
   "cell_type": "code",
   "execution_count": null,
   "metadata": {
    "collapsed": true,
    "scrolled": true
   },
   "outputs": [],
   "source": [
    "daisy_dict = {}\n",
    "#Loop through each Google Drive link\n",
    "for idx, row in drive_and_label.iterrows():\n",
    "    \n",
    "    #Creating a Array with just pixel values\n",
    "    print ('Finding feature array...')\n",
    "    im = imread(row['Spectogram'])\n",
    "    im_crop = crop_center(im, 505, 295)\n",
    "    \n",
    "    #Convert image to grayscale\n",
    "    gray = rgb2gray(im_crop)\n",
    "    \n",
    "    #Convert grayscale to Daisy features\n",
    "    daisy_f = daisy_feature(gray)\n",
    "    features = daisy_f.flatten()\n",
    "    print('... array found.')\n",
    "    \n",
    "    #Adding features to dictionary \n",
    "    daisy_dict[idx] = features"
   ]
  },
  {
   "cell_type": "code",
   "execution_count": null,
   "metadata": {
    "collapsed": true
   },
   "outputs": [],
   "source": [
    "len(daisy_dict.pop(1))"
   ]
  },
  {
   "cell_type": "code",
   "execution_count": null,
   "metadata": {
    "collapsed": true
   },
   "outputs": [],
   "source": [
    "#Converting daisy dict into dataframe\n",
    "daisy_df = pd.DataFrame.from_dict(daisy_dict)\n",
    "daisy_df = daisy_df.T\n",
    "daisy_df.insert(0, 'label', drive_and_label['New_Label'])\n",
    "daisy_df.tail()"
   ]
  },
  {
   "cell_type": "code",
   "execution_count": null,
   "metadata": {
    "collapsed": true
   },
   "outputs": [],
   "source": [
    "#Finding and converting raw data\n",
    "Y = daisy_df.iloc[:799, 0].values\n",
    "X = daisy_df.iloc[:799, 1:].values\n",
    "scalar.fit(X)\n",
    "X = scalar.transform(X)\n",
    "\n",
    "#Finding and converting test data\n",
    "Y_test = daisy_df.iloc[800:, 0].values\n",
    "X_test = daisy_df.iloc[800:, 1:].values\n",
    "\n",
    "scalar.fit(X_test)\n",
    "X_test = scalar.transform(X_test)"
   ]
  },
  {
   "cell_type": "code",
   "execution_count": null,
   "metadata": {
    "collapsed": true
   },
   "outputs": [],
   "source": []
  }
 ],
 "metadata": {
  "anaconda-cloud": {},
  "kernelspec": {
   "display_name": "Python [conda root]",
   "language": "python",
   "name": "conda-root-py"
  },
  "language_info": {
   "codemirror_mode": {
    "name": "ipython",
    "version": 3
   },
   "file_extension": ".py",
   "mimetype": "text/x-python",
   "name": "python",
   "nbconvert_exporter": "python",
   "pygments_lexer": "ipython3",
   "version": "3.6.1"
  }
 },
 "nbformat": 4,
 "nbformat_minor": 2
}

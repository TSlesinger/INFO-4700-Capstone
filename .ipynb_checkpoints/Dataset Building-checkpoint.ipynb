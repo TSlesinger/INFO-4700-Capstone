{
 "cells": [
  {
   "cell_type": "markdown",
   "metadata": {},
   "source": [
    "# Info 4700 Capstone: Machine Learning and Dataset Building"
   ]
  },
  {
   "cell_type": "code",
   "execution_count": 2,
   "metadata": {
    "collapsed": true
   },
   "outputs": [],
   "source": [
    "#Imports\n",
    "import pandas as pd\n",
    "import numpy as np\n",
    "from skimage.io import imread\n",
    "import skimage\n",
    "\n",
    "%matplotlib inline\n",
    "\n",
    "import matplotlib\n",
    "import numpy as np\n",
    "import matplotlib.pyplot as plt"
   ]
  },
  {
   "cell_type": "markdown",
   "metadata": {},
   "source": [
    "## Reading CSV File from Labelling Spectrogram\n",
    "\n",
    "This CSV file was created by a crowd-sourced labelling process in the Capstone class. Each file has the Google Drive link, the label given to the picture, and the new 'correct' label."
   ]
  },
  {
   "cell_type": "code",
   "execution_count": 3,
   "metadata": {},
   "outputs": [
    {
     "data": {
      "text/html": [
       "<div>\n",
       "<style>\n",
       "    .dataframe thead tr:only-child th {\n",
       "        text-align: right;\n",
       "    }\n",
       "\n",
       "    .dataframe thead th {\n",
       "        text-align: left;\n",
       "    }\n",
       "\n",
       "    .dataframe tbody tr th {\n",
       "        vertical-align: top;\n",
       "    }\n",
       "</style>\n",
       "<table border=\"1\" class=\"dataframe\">\n",
       "  <thead>\n",
       "    <tr style=\"text-align: right;\">\n",
       "      <th></th>\n",
       "      <th>Spectogram</th>\n",
       "      <th>Meta_Label</th>\n",
       "      <th>New_Label</th>\n",
       "    </tr>\n",
       "  </thead>\n",
       "  <tbody>\n",
       "    <tr>\n",
       "      <th>0</th>\n",
       "      <td>https://drive.google.com/uc?export=download&amp;id...</td>\n",
       "      <td>320kpbs</td>\n",
       "      <td>192 kbps (LAME)</td>\n",
       "    </tr>\n",
       "    <tr>\n",
       "      <th>1</th>\n",
       "      <td>https://drive.google.com/uc?export=download&amp;id...</td>\n",
       "      <td>320 kbps</td>\n",
       "      <td>320 kbps (LAME)</td>\n",
       "    </tr>\n",
       "    <tr>\n",
       "      <th>2</th>\n",
       "      <td>https://drive.google.com/uc?export=download&amp;id...</td>\n",
       "      <td>320 kbps</td>\n",
       "      <td>128 kbps (CBR)</td>\n",
       "    </tr>\n",
       "    <tr>\n",
       "      <th>3</th>\n",
       "      <td>https://drive.google.com/uc?export=download&amp;id...</td>\n",
       "      <td>128 kbps</td>\n",
       "      <td>128 kpbs (AAC)</td>\n",
       "    </tr>\n",
       "    <tr>\n",
       "      <th>4</th>\n",
       "      <td>https://drive.google.com/uc?export=download&amp;id...</td>\n",
       "      <td>320 kbps</td>\n",
       "      <td>128 kbps (LAME)</td>\n",
       "    </tr>\n",
       "  </tbody>\n",
       "</table>\n",
       "</div>"
      ],
      "text/plain": [
       "                                          Spectogram Meta_Label  \\\n",
       "0  https://drive.google.com/uc?export=download&id...    320kpbs   \n",
       "1  https://drive.google.com/uc?export=download&id...   320 kbps   \n",
       "2  https://drive.google.com/uc?export=download&id...   320 kbps   \n",
       "3  https://drive.google.com/uc?export=download&id...   128 kbps   \n",
       "4  https://drive.google.com/uc?export=download&id...   320 kbps   \n",
       "\n",
       "         New_Label  \n",
       "0  192 kbps (LAME)  \n",
       "1  320 kbps (LAME)  \n",
       "2   128 kbps (CBR)  \n",
       "3   128 kpbs (AAC)  \n",
       "4  128 kbps (LAME)  "
      ]
     },
     "execution_count": 3,
     "metadata": {},
     "output_type": "execute_result"
    }
   ],
   "source": [
    "drive_and_label = pd.read_excel('Specogram Processing\\Spectogram_Data_v1.xlsx')\n",
    "drive_and_label.head()"
   ]
  },
  {
   "cell_type": "markdown",
   "metadata": {},
   "source": [
    "## Calculating 'score' by picture\n",
    "Here we are giving an overall score to each picture. We are trying to get an overall sense of how many black pixels there are by locating the shelf of the spectrogram.\n",
    "\n",
    "Below is an example of what we're trying to use machine learning to label."
   ]
  },
  {
   "cell_type": "code",
   "execution_count": 6,
   "metadata": {},
   "outputs": [
    {
     "name": "stderr",
     "output_type": "stream",
     "text": [
      "C:\\Anaconda\\lib\\site-packages\\skimage\\io\\_plugins\\matplotlib_plugin.py:51: FutureWarning: Conversion of the second argument of issubdtype from `float` to `np.floating` is deprecated. In future, it will be treated as `np.float64 == np.dtype(float).type`.\n",
      "  out_of_range_float = (np.issubdtype(image.dtype, np.float) and\n"
     ]
    },
    {
     "data": {
      "text/plain": [
       "<matplotlib.image.AxesImage at 0x20390dac550>"
      ]
     },
     "execution_count": 6,
     "metadata": {},
     "output_type": "execute_result"
    },
    {
     "data": {
      "image/png": "[encoded data removed]",
      "text/plain": [
       "<matplotlib.figure.Figure at 0x203913dc8d0>"
      ]
     },
     "metadata": {},
     "output_type": "display_data"
    }
   ],
   "source": [
    "im = imread(drive_and_label.iloc[0]['Spectogram'], as_grey = True)\n",
    "skimage.io.imshow(im)"
   ]
  },
  {
   "cell_type": "markdown",
   "metadata": {},
   "source": [
    "## Creating Features from the Google Drive links.\n",
    "\n",
    "Here we crop the picture and then give each column a 'score' as to how good the column is. We start at position 0 on the X and Y axis. From there, we look at the first column of pixels and loop downward to the bottom of the picture.\n",
    "\n",
    "The if the shelf of the spectrogram is higher, there are going to be more non-black pixels in that column. So, in each column, if the pixel value is 0.0 (black) we reduce the score of that column by 1. If any pixel in the column does not equal 0.0 we give the score plus one. \n",
    "\n",
    "So, a column with a higher score in genral should give a higher quality.\n",
    "\n",
    "**Note this loop takes a while to run since it has to access the GD links and create 624 features per image.**"
   ]
  },
  {
   "cell_type": "code",
   "execution_count": 92,
   "metadata": {
    "collapsed": true
   },
   "outputs": [],
   "source": [
    "#https://stackoverflow.com/questions/39382412/crop-center-portion-of-a-numpy-image/39382475\n",
    "def crop_center(img,cropx,cropy):\n",
    "    y,x,z = img.shape\n",
    "    startx = x//2-(cropx//2)\n",
    "    starty = y//2-(cropy//2) \n",
    "    return img[starty:starty+cropy,startx:startx+cropx]\n",
    "\n",
    "d = {}\n",
    "\n",
    "for idx, row in drive_and_label.iterrows():\n",
    "    #Find picture from GD link\n",
    "    im = imread(row['Spectogram'], as_grey = True)\n",
    "\n",
    "    #Crop Picture to get rid of top section\n",
    "    #58 pixels is the standard header\n",
    "    im = im[58:]\n",
    "\n",
    "    #Find Bounds of image (to give baseline)\n",
    "    y_bound, x_bound = im.shape\n",
    "\n",
    "    #Looping across the x-axis (predefined resolution)\n",
    "    final_score = []\n",
    "    for ii in range(0, x_bound-1):\n",
    "        #Reset Score per-coluimn\n",
    "        score = 0\n",
    "        for jj in range(0, y_bound-1): #Loop down each \"x column\"\n",
    "            try:\n",
    "                if im[ii, jj] == 0:\n",
    "                    score -= 1\n",
    "                elif im[ii,jj] != 0:\n",
    "                    score += 1\n",
    "            except:\n",
    "                'IndexError'\n",
    "\n",
    "        final_score.append(score)\n",
    "    d[idx] = final_score "
   ]
  },
  {
   "cell_type": "code",
   "execution_count": 10,
   "metadata": {
    "collapsed": true
   },
   "outputs": [
    {
     "ename": "NameError",
     "evalue": "name 'd' is not defined",
     "output_type": "error",
     "traceback": [
      "\u001b[1;31m---------------------------------------------------------------------------\u001b[0m",
      "\u001b[1;31mNameError\u001b[0m                                 Traceback (most recent call last)",
      "\u001b[1;32m<ipython-input-10-c4bd7afb4358>\u001b[0m in \u001b[0;36m<module>\u001b[1;34m()\u001b[0m\n\u001b[1;32m----> 1\u001b[1;33m \u001b[0mdf\u001b[0m \u001b[1;33m=\u001b[0m \u001b[0mpd\u001b[0m\u001b[1;33m.\u001b[0m\u001b[0mDataFrame\u001b[0m\u001b[1;33m.\u001b[0m\u001b[0mfrom_dict\u001b[0m\u001b[1;33m(\u001b[0m\u001b[0md\u001b[0m\u001b[1;33m)\u001b[0m\u001b[1;33m\u001b[0m\u001b[0m\n\u001b[0m\u001b[0;32m      2\u001b[0m \u001b[0mdf\u001b[0m \u001b[1;33m=\u001b[0m \u001b[0mdf\u001b[0m\u001b[1;33m.\u001b[0m\u001b[0mT\u001b[0m\u001b[1;33m\u001b[0m\u001b[0m\n\u001b[0;32m      3\u001b[0m \u001b[0mdf\u001b[0m\u001b[1;33m.\u001b[0m\u001b[0minsert\u001b[0m\u001b[1;33m(\u001b[0m\u001b[1;36m0\u001b[0m\u001b[1;33m,\u001b[0m \u001b[1;34m'label'\u001b[0m\u001b[1;33m,\u001b[0m \u001b[0mdrive_and_label\u001b[0m\u001b[1;33m[\u001b[0m\u001b[1;34m'New_Label'\u001b[0m\u001b[1;33m]\u001b[0m\u001b[1;33m)\u001b[0m\u001b[1;33m\u001b[0m\u001b[0m\n\u001b[0;32m      4\u001b[0m \u001b[0mdf\u001b[0m\u001b[1;33m.\u001b[0m\u001b[0mtail\u001b[0m\u001b[1;33m(\u001b[0m\u001b[1;33m)\u001b[0m\u001b[1;33m\u001b[0m\u001b[0m\n\u001b[0;32m      5\u001b[0m \u001b[1;33m\u001b[0m\u001b[0m\n",
      "\u001b[1;31mNameError\u001b[0m: name 'd' is not defined"
     ]
    }
   ],
   "source": [
    "df = pd.DataFrame.from_dict(d)\n",
    "df = df.T\n",
    "df.insert(0, 'label', drive_and_label['New_Label'])\n",
    "df.tail()\n",
    "\n",
    "df.to_csv('Spectogram Processing\\SCORE_v1.csv', sep = ',')"
   ]
  },
  {
   "cell_type": "code",
   "execution_count": 36,
   "metadata": {
    "scrolled": true
   },
   "outputs": [
    {
     "data": {
      "text/html": [
       "<div>\n",
       "<style>\n",
       "    .dataframe thead tr:only-child th {\n",
       "        text-align: right;\n",
       "    }\n",
       "\n",
       "    .dataframe thead th {\n",
       "        text-align: left;\n",
       "    }\n",
       "\n",
       "    .dataframe tbody tr th {\n",
       "        vertical-align: top;\n",
       "    }\n",
       "</style>\n",
       "<table border=\"1\" class=\"dataframe\">\n",
       "  <thead>\n",
       "    <tr style=\"text-align: right;\">\n",
       "      <th></th>\n",
       "      <th>label</th>\n",
       "      <th>0</th>\n",
       "      <th>1</th>\n",
       "      <th>2</th>\n",
       "      <th>3</th>\n",
       "      <th>4</th>\n",
       "      <th>5</th>\n",
       "      <th>6</th>\n",
       "      <th>7</th>\n",
       "      <th>8</th>\n",
       "      <th>...</th>\n",
       "      <th>613</th>\n",
       "      <th>614</th>\n",
       "      <th>615</th>\n",
       "      <th>616</th>\n",
       "      <th>617</th>\n",
       "      <th>618</th>\n",
       "      <th>619</th>\n",
       "      <th>620</th>\n",
       "      <th>621</th>\n",
       "      <th>622</th>\n",
       "    </tr>\n",
       "  </thead>\n",
       "  <tbody>\n",
       "    <tr>\n",
       "      <th>968</th>\n",
       "      <td>192 kbps (CBR)</td>\n",
       "      <td>-287</td>\n",
       "      <td>-289</td>\n",
       "      <td>253</td>\n",
       "      <td>-171</td>\n",
       "      <td>-185</td>\n",
       "      <td>-163</td>\n",
       "      <td>-217</td>\n",
       "      <td>-225</td>\n",
       "      <td>-221</td>\n",
       "      <td>...</td>\n",
       "      <td>0</td>\n",
       "      <td>0</td>\n",
       "      <td>0</td>\n",
       "      <td>0</td>\n",
       "      <td>0</td>\n",
       "      <td>0</td>\n",
       "      <td>0</td>\n",
       "      <td>0</td>\n",
       "      <td>0</td>\n",
       "      <td>0</td>\n",
       "    </tr>\n",
       "    <tr>\n",
       "      <th>969</th>\n",
       "      <td>128 kbps (CBR)</td>\n",
       "      <td>-287</td>\n",
       "      <td>-289</td>\n",
       "      <td>253</td>\n",
       "      <td>-49</td>\n",
       "      <td>-49</td>\n",
       "      <td>-29</td>\n",
       "      <td>-81</td>\n",
       "      <td>-85</td>\n",
       "      <td>-83</td>\n",
       "      <td>...</td>\n",
       "      <td>0</td>\n",
       "      <td>0</td>\n",
       "      <td>0</td>\n",
       "      <td>0</td>\n",
       "      <td>0</td>\n",
       "      <td>0</td>\n",
       "      <td>0</td>\n",
       "      <td>0</td>\n",
       "      <td>0</td>\n",
       "      <td>0</td>\n",
       "    </tr>\n",
       "    <tr>\n",
       "      <th>970</th>\n",
       "      <td>320 kbps (LAME)</td>\n",
       "      <td>-287</td>\n",
       "      <td>-289</td>\n",
       "      <td>253</td>\n",
       "      <td>-189</td>\n",
       "      <td>-207</td>\n",
       "      <td>-181</td>\n",
       "      <td>-239</td>\n",
       "      <td>-243</td>\n",
       "      <td>-237</td>\n",
       "      <td>...</td>\n",
       "      <td>0</td>\n",
       "      <td>0</td>\n",
       "      <td>0</td>\n",
       "      <td>0</td>\n",
       "      <td>0</td>\n",
       "      <td>0</td>\n",
       "      <td>0</td>\n",
       "      <td>0</td>\n",
       "      <td>0</td>\n",
       "      <td>0</td>\n",
       "    </tr>\n",
       "    <tr>\n",
       "      <th>971</th>\n",
       "      <td>256 kbps (AAC)</td>\n",
       "      <td>-287</td>\n",
       "      <td>-289</td>\n",
       "      <td>253</td>\n",
       "      <td>-89</td>\n",
       "      <td>-109</td>\n",
       "      <td>-83</td>\n",
       "      <td>-145</td>\n",
       "      <td>-143</td>\n",
       "      <td>-141</td>\n",
       "      <td>...</td>\n",
       "      <td>0</td>\n",
       "      <td>0</td>\n",
       "      <td>0</td>\n",
       "      <td>0</td>\n",
       "      <td>0</td>\n",
       "      <td>0</td>\n",
       "      <td>0</td>\n",
       "      <td>0</td>\n",
       "      <td>0</td>\n",
       "      <td>0</td>\n",
       "    </tr>\n",
       "    <tr>\n",
       "      <th>972</th>\n",
       "      <td>128 kbps (CBR)</td>\n",
       "      <td>-287</td>\n",
       "      <td>-289</td>\n",
       "      <td>253</td>\n",
       "      <td>-247</td>\n",
       "      <td>-251</td>\n",
       "      <td>-233</td>\n",
       "      <td>-291</td>\n",
       "      <td>-291</td>\n",
       "      <td>-293</td>\n",
       "      <td>...</td>\n",
       "      <td>0</td>\n",
       "      <td>0</td>\n",
       "      <td>0</td>\n",
       "      <td>0</td>\n",
       "      <td>0</td>\n",
       "      <td>0</td>\n",
       "      <td>0</td>\n",
       "      <td>0</td>\n",
       "      <td>0</td>\n",
       "      <td>0</td>\n",
       "    </tr>\n",
       "  </tbody>\n",
       "</table>\n",
       "<p>5 rows × 624 columns</p>\n",
       "</div>"
      ],
      "text/plain": [
       "               label    0    1    2    3    4    5    6    7    8 ...   613  \\\n",
       "968   192 kbps (CBR) -287 -289  253 -171 -185 -163 -217 -225 -221 ...     0   \n",
       "969   128 kbps (CBR) -287 -289  253  -49  -49  -29  -81  -85  -83 ...     0   \n",
       "970  320 kbps (LAME) -287 -289  253 -189 -207 -181 -239 -243 -237 ...     0   \n",
       "971   256 kbps (AAC) -287 -289  253  -89 -109  -83 -145 -143 -141 ...     0   \n",
       "972   128 kbps (CBR) -287 -289  253 -247 -251 -233 -291 -291 -293 ...     0   \n",
       "\n",
       "     614  615  616  617  618  619  620  621  622  \n",
       "968    0    0    0    0    0    0    0    0    0  \n",
       "969    0    0    0    0    0    0    0    0    0  \n",
       "970    0    0    0    0    0    0    0    0    0  \n",
       "971    0    0    0    0    0    0    0    0    0  \n",
       "972    0    0    0    0    0    0    0    0    0  \n",
       "\n",
       "[5 rows x 624 columns]"
      ]
     },
     "execution_count": 36,
     "metadata": {},
     "output_type": "execute_result"
    }
   ],
   "source": [
    "df = pd.read_csv('Python_ML\\SCORE_v1.csv')\n",
    "df.tail()"
   ]
  },
  {
   "cell_type": "markdown",
   "metadata": {},
   "source": [
    "## Transforming Data for Machine Learning \n",
    "\n",
    "Here we are creating the training and testing datasets, as well as, using Z-Score normalization to standardize the data."
   ]
  },
  {
   "cell_type": "code",
   "execution_count": 37,
   "metadata": {
    "collapsed": true
   },
   "outputs": [],
   "source": [
    "from sklearn.preprocessing import StandardScaler\n",
    "from sklearn.model_selection import train_test_split\n",
    "scalar = StandardScaler()"
   ]
  },
  {
   "cell_type": "code",
   "execution_count": 65,
   "metadata": {},
   "outputs": [],
   "source": [
    "#Using train test split to randomly assign data to training or testing\n",
    "X_train, X_test, y_train, y_test = train_test_split(df.iloc[:,1:], \n",
    "                                    df.iloc[:,0], test_size = 0.2)\n",
    "\n",
    "#Standardizing X values with Z-score-standardization\n",
    "scalar.fit(X_train)\n",
    "X_train = scalar.transform(X_train)\n",
    "\n",
    "scalar.fit(X_test)\n",
    "X_test = scalar.transform(X_test)"
   ]
  },
  {
   "cell_type": "markdown",
   "metadata": {},
   "source": [
    "This is a dummy classifier which uses a very simple algorithm to give us a baseline to improve off of."
   ]
  },
  {
   "cell_type": "code",
   "execution_count": 67,
   "metadata": {},
   "outputs": [
    {
     "name": "stdout",
     "output_type": "stream",
     "text": [
      "Training accuracy: 0.138817\n",
      "Testing accuracy: 0.138817\n"
     ]
    }
   ],
   "source": [
    "from sklearn.dummy import DummyClassifier\n",
    "from sklearn.metrics import accuracy_score\n",
    "\n",
    "classifier = DummyClassifier(strategy='most_frequent')\n",
    "\n",
    "classifier.fit(X_train, y_train)\n",
    "\n",
    "print(\"Training accuracy: %0.6f\" % accuracy_score(y_train, classifier.predict(X_train)))\n",
    "print(\"Testing accuracy: %0.6f\" % accuracy_score(y_train, classifier.predict(X_train)))"
   ]
  },
  {
   "cell_type": "markdown",
   "metadata": {},
   "source": [
    "## K-Fold Cross Validation\n",
    "\n",
    "K-fold cross validation chunks our data into bins and allows for a consice way to test different algoriothms so we know which ones to improve."
   ]
  },
  {
   "cell_type": "code",
   "execution_count": 41,
   "metadata": {
    "collapsed": true
   },
   "outputs": [],
   "source": [
    "from sklearn import model_selection\n",
    "from sklearn.linear_model import LogisticRegression\n",
    "from sklearn.tree import DecisionTreeClassifier\n",
    "from sklearn.neighbors import KNeighborsClassifier\n",
    "from sklearn.naive_bayes import GaussianNB\n",
    "from sklearn.svm import SVC"
   ]
  },
  {
   "cell_type": "code",
   "execution_count": 71,
   "metadata": {},
   "outputs": [
    {
     "name": "stdout",
     "output_type": "stream",
     "text": [
      "LR: 0.271245 (0.056546)\n",
      "KNN: 0.224892 (0.030155)\n",
      "TREE: 0.190243 (0.039728)\n",
      "SVM: 0.321262 (0.039145)\n"
     ]
    },
    {
     "data": {
      "image/png": "[encoded data removed]",
      "text/plain": [
       "<matplotlib.figure.Figure at 0x203942e9160>"
      ]
     },
     "metadata": {},
     "output_type": "display_data"
    }
   ],
   "source": [
    "# prepare configuration for cross validation test harness\n",
    "seed = 123\n",
    "# prepare models\n",
    "models = []\n",
    "models.append(('LR', LogisticRegression()))\n",
    "models.append(('KNN', KNeighborsClassifier()))\n",
    "models.append(('TREE', DecisionTreeClassifier()))\n",
    "models.append(('SVM', SVC()))\n",
    "#models.append(('Naive Bayes', GaussianNB))\n",
    "\n",
    "# evaluate each model in turn\n",
    "results = []\n",
    "names = []\n",
    "scoring = 'accuracy'\n",
    "for name, model in models:\n",
    "    kfold = model_selection.KFold(n_splits=10, random_state=seed)\n",
    "    cv_results = model_selection.cross_val_score(model, X_train, y_train, cv=kfold, scoring=scoring)\n",
    "    results.append(cv_results)\n",
    "    names.append(name)\n",
    "    msg = \"%s: %f (%f)\" % (name, cv_results.mean(), cv_results.std())\n",
    "    print(msg)\n",
    "# boxplot algorithm comparison\n",
    "fig = plt.figure()\n",
    "fig.suptitle('Algorithm Comparison')\n",
    "ax = fig.add_subplot(111)\n",
    "plt.boxplot(results)\n",
    "ax.set_xticklabels(names)\n",
    "plt.show()"
   ]
  },
  {
   "cell_type": "markdown",
   "metadata": {},
   "source": [
    "## Tuning the SVM Model\n",
    "\n",
    "Since we can see out of LogisticRegression, KNN, Decision Tree, and SVM, the SVM is the highest. This means we can tune the hyper parameters of the SVM to see if we can improve off of 32% testing accuracy."
   ]
  },
  {
   "cell_type": "code",
   "execution_count": 83,
   "metadata": {
    "scrolled": true
   },
   "outputs": [
    {
     "name": "stdout",
     "output_type": "stream",
     "text": [
      "--- Using a linear kernel ---\n",
      "C = 0.0001\n",
      "Training accuracy: 0.197943\n",
      "Test accuracy: 0.200000\n",
      "C = 0.001\n",
      "Training accuracy: 0.312339\n",
      "Test accuracy: 0.302564\n",
      "C = 0.01\n",
      "Training accuracy: 0.334190\n",
      "Test accuracy: 0.287179\n",
      "C = 0.1\n",
      "Training accuracy: 0.394602\n",
      "Test accuracy: 0.266667\n",
      "C = 1.0\n",
      "Training accuracy: 0.556555\n",
      "Test accuracy: 0.312821\n",
      "C = 10.0\n",
      "Training accuracy: 0.795630\n",
      "Test accuracy: 0.282051\n",
      "C = 100.0\n",
      "Training accuracy: 0.970437\n",
      "Test accuracy: 0.235897\n",
      "C = 1000.0\n",
      "Training accuracy: 0.997429\n",
      "Test accuracy: 0.225641\n",
      "--- Using a poly kernel ---\n",
      "C = 0.0001\n",
      "Training accuracy: 0.138817\n",
      "Test accuracy: 0.128205\n",
      "C = 0.001\n",
      "Training accuracy: 0.147815\n",
      "Test accuracy: 0.138462\n",
      "C = 0.01\n",
      "Training accuracy: 0.149100\n",
      "Test accuracy: 0.138462\n",
      "C = 0.1\n",
      "Training accuracy: 0.155527\n",
      "Test accuracy: 0.153846\n",
      "C = 1.0\n",
      "Training accuracy: 0.275064\n",
      "Test accuracy: 0.256410\n",
      "C = 10.0\n",
      "Training accuracy: 0.338046\n",
      "Test accuracy: 0.297436\n",
      "C = 100.0\n",
      "Training accuracy: 0.419023\n",
      "Test accuracy: 0.297436\n",
      "C = 1000.0\n",
      "Training accuracy: 0.587404\n",
      "Test accuracy: 0.256410\n",
      "--- Using a poly kernel ---\n",
      "C = 0.0001\n",
      "Training accuracy: 0.147815\n",
      "Test accuracy: 0.138462\n",
      "C = 0.001\n",
      "Training accuracy: 0.149100\n",
      "Test accuracy: 0.138462\n",
      "C = 0.01\n",
      "Training accuracy: 0.149100\n",
      "Test accuracy: 0.138462\n",
      "C = 0.1\n",
      "Training accuracy: 0.154242\n",
      "Test accuracy: 0.143590\n",
      "C = 1.0\n",
      "Training accuracy: 0.196658\n",
      "Test accuracy: 0.194872\n",
      "C = 10.0\n",
      "Training accuracy: 0.293059\n",
      "Test accuracy: 0.251282\n",
      "C = 100.0\n",
      "Training accuracy: 0.377892\n",
      "Test accuracy: 0.302564\n",
      "C = 1000.0\n",
      "Training accuracy: 0.500000\n",
      "Test accuracy: 0.287179\n",
      "--- Using a rbf kernel ---\n",
      "C = 0.0001\n",
      "Training accuracy: 0.138817\n",
      "Test accuracy: 0.128205\n",
      "C = 0.001\n",
      "Training accuracy: 0.138817\n",
      "Test accuracy: 0.128205\n",
      "C = 0.01\n",
      "Training accuracy: 0.138817\n",
      "Test accuracy: 0.128205\n",
      "C = 0.1\n",
      "Training accuracy: 0.278920\n",
      "Test accuracy: 0.266667\n",
      "C = 1.0\n",
      "Training accuracy: 0.340617\n",
      "Test accuracy: 0.292308\n",
      "C = 10.0\n",
      "Training accuracy: 0.416452\n",
      "Test accuracy: 0.276923\n",
      "C = 100.0\n",
      "Training accuracy: 0.560411\n",
      "Test accuracy: 0.282051\n",
      "C = 1000.0\n",
      "Training accuracy: 0.814910\n",
      "Test accuracy: 0.292308\n"
     ]
    }
   ],
   "source": [
    "from sklearn.svm import SVC\n",
    "train_max = []\n",
    "test_max = []\n",
    "switch = False\n",
    "for kernel in ['linear', 'poly', 'poly', 'rbf']:\n",
    "    print('--- Using a {} kernel ---'.format(kernel))\n",
    "    for c_iter in [0.0001,0.001,0.01,0.1,1.0,10.0,100.0,1000.0]:\n",
    "        #Init Classifier given kernel\n",
    "        if kernel == 'poly' and switch == False:\n",
    "            classifier = SVC(kernel=kernel, degree = 2, C=c_iter, random_state=123)\n",
    "            if c_iter == 1000.0:\n",
    "                switch = True #done with first poly move to second\n",
    "        elif kernel == 'poly' and switch == True:\n",
    "            classifier = SVC(kernel=kernel, degree = 3, C=c_iter, random_state=123)\n",
    "        else:\n",
    "            classifier = SVC(kernel=kernel, C=c_iter, random_state=123)\n",
    "        \n",
    "        #Fit classifier\n",
    "        classifier.fit(X_train, y_train)\n",
    "        \n",
    "        #Find Accuracy\n",
    "        print('C = {}'.format(c_iter))\n",
    "        \n",
    "        print(\"Training accuracy: %0.6f\" % accuracy_score(y_train, classifier.predict(X_train)))\n",
    "        print(\"Test accuracy: %0.6f\" % accuracy_score(y_test, classifier.predict(X_test)))\n",
    "        train_max.append(accuracy_score(y_train, classifier.predict(X_train)))\n",
    "        test_max.append(accuracy_score(y_test, classifier.predict(X_test)))\n",
    "                            \n",
    "\n",
    "        \n",
    "        \n",
    "        "
   ]
  },
  {
   "cell_type": "code",
   "execution_count": 85,
   "metadata": {},
   "outputs": [
    {
     "data": {
      "text/plain": [
       "0.3128205128205128"
      ]
     },
     "execution_count": 85,
     "metadata": {},
     "output_type": "execute_result"
    }
   ],
   "source": [
    "np.amax(train_max)\n",
    "np.amax(test_max)"
   ]
  },
  {
   "cell_type": "code",
   "execution_count": null,
   "metadata": {
    "collapsed": true
   },
   "outputs": [],
   "source": []
  }
 ],
 "metadata": {
  "anaconda-cloud": {},
  "kernelspec": {
   "display_name": "Python [conda root]",
   "language": "python",
   "name": "conda-root-py"
  },
  "language_info": {
   "codemirror_mode": {
    "name": "ipython",
    "version": 3
   },
   "file_extension": ".py",
   "mimetype": "text/x-python",
   "name": "python",
   "nbconvert_exporter": "python",
   "pygments_lexer": "ipython3",
   "version": "3.6.1"
  }
 },
 "nbformat": 4,
 "nbformat_minor": 2
}
